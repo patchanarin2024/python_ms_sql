{
 "cells": [
  {
   "cell_type": "markdown",
   "id": "3d718023",
   "metadata": {},
   "source": [
    "### Pandas .To_sql ###"
   ]
  },
  {
   "cell_type": "code",
   "execution_count": 1,
   "id": "94274baa",
   "metadata": {},
   "outputs": [],
   "source": [
    "import sqlalchemy\n",
    "import pyodbc \n",
    "import os\n",
    "import pandas as pd"
   ]
  },
  {
   "cell_type": "code",
   "execution_count": 2,
   "id": "374fa1f3",
   "metadata": {},
   "outputs": [
    {
     "data": {
      "text/plain": [
       "'C:\\\\Users\\\\oong1'"
      ]
     },
     "execution_count": 2,
     "metadata": {},
     "output_type": "execute_result"
    }
   ],
   "source": [
    "os.getcwd()"
   ]
  },
  {
   "cell_type": "code",
   "execution_count": 5,
   "id": "4331f614",
   "metadata": {},
   "outputs": [
    {
     "name": "stdout",
     "output_type": "stream",
     "text": [
      "[' webscraping.ipynb', '.anaconda', '.bash_history', '.conda', '.condarc', '.continuum', '.docker', '.gitconfig', '.ipynb_checkpoints', '.ipython', '.jupyter', '.matplotlib', '.spyder-py3', '.ssh', '.vscode', 'anaconda3', 'AppData', 'Application Data', 'Contacts', 'Cookies', 'Desktop', 'Documents', 'Downloads', 'Excel to MS sql server.ipynb', 'Excel With Python.ipynb', 'Favorites', 'Jedi', 'Library,Control Flow,Function & Module .ipynb', 'Links', 'Local Settings', 'Microsoft', 'Music', 'My Documents', 'NetHood', 'NTUSER.DAT', 'ntuser.dat.LOG1', 'ntuser.dat.LOG2', 'NTUSER.DAT{353d290a-6aa8-11ee-be80-ced3381205b5}.TM.blf', 'NTUSER.DAT{353d290a-6aa8-11ee-be80-ced3381205b5}.TMContainer00000000000000000001.regtrans-ms', 'NTUSER.DAT{353d290a-6aa8-11ee-be80-ced3381205b5}.TMContainer00000000000000000002.regtrans-ms', 'ntuser.ini', 'OneDrive', 'PrintHood', 'Recent', 'Saved Games', 'Searches', 'SendTo', 'Start Menu', 'Templates', 'ultimatepython.ipynb', 'Untitled Folder', 'Videos', 'การทำงานกับไฟล์ และโฟลเดอร์.ipynb', 'ย้าย Folder โดยแยกประเภทไฟล์.ipynb']\n"
     ]
    }
   ],
   "source": [
    "print(os.listdir())"
   ]
  },
  {
   "cell_type": "code",
   "execution_count": 6,
   "id": "b74f1585",
   "metadata": {},
   "outputs": [
    {
     "name": "stdout",
     "output_type": "stream",
     "text": [
      "patchanarin\n"
     ]
    }
   ],
   "source": [
    "import platform\n",
    "print(platform.node())"
   ]
  },
  {
   "cell_type": "code",
   "execution_count": 7,
   "id": "ee3c393d",
   "metadata": {},
   "outputs": [
    {
     "data": {
      "text/plain": [
       "'patchanarin'"
      ]
     },
     "execution_count": 7,
     "metadata": {},
     "output_type": "execute_result"
    }
   ],
   "source": [
    "import socket\n",
    "socket.gethostname()"
   ]
  },
  {
   "cell_type": "code",
   "execution_count": 3,
   "id": "41f7bbc7",
   "metadata": {},
   "outputs": [
    {
     "data": {
      "text/plain": [
       "['SQL Server',\n",
       " 'ODBC Driver 17 for SQL Server',\n",
       " 'SQL Server Native Client 11.0',\n",
       " 'SQL Server Native Client RDA 11.0',\n",
       " 'Microsoft Access Driver (*.mdb, *.accdb)',\n",
       " 'Microsoft Excel Driver (*.xls, *.xlsx, *.xlsm, *.xlsb)',\n",
       " 'Microsoft Access Text Driver (*.txt, *.csv)',\n",
       " 'Microsoft Access dBASE Driver (*.dbf, *.ndx, *.mdx)']"
      ]
     },
     "execution_count": 3,
     "metadata": {},
     "output_type": "execute_result"
    }
   ],
   "source": [
    "pyodbc.drivers()"
   ]
  },
  {
   "cell_type": "code",
   "execution_count": 4,
   "id": "9a7013e9",
   "metadata": {},
   "outputs": [],
   "source": [
    "from sqlalchemy import create_engine\n",
    "\n",
    "connection_string = f'mssql+pyodbc://PATCHANARIN\\SQLEXPRESS/mydatabae?trusted_connection=yes&driver=ODBC+Driver+17+for+SQL+Server'\n",
    "engine = create_engine(connection_string)"
   ]
  },
  {
   "cell_type": "code",
   "execution_count": 5,
   "id": "6b34093a",
   "metadata": {},
   "outputs": [
    {
     "data": {
      "text/html": [
       "<div>\n",
       "<style scoped>\n",
       "    .dataframe tbody tr th:only-of-type {\n",
       "        vertical-align: middle;\n",
       "    }\n",
       "\n",
       "    .dataframe tbody tr th {\n",
       "        vertical-align: top;\n",
       "    }\n",
       "\n",
       "    .dataframe thead th {\n",
       "        text-align: right;\n",
       "    }\n",
       "</style>\n",
       "<table border=\"1\" class=\"dataframe\">\n",
       "  <thead>\n",
       "    <tr style=\"text-align: right;\">\n",
       "      <th></th>\n",
       "      <th>Sub_sourcelist</th>\n",
       "      <th>Group</th>\n",
       "      <th>Number</th>\n",
       "    </tr>\n",
       "  </thead>\n",
       "  <tbody>\n",
       "    <tr>\n",
       "      <th>0</th>\n",
       "      <td>AA1</td>\n",
       "      <td>A</td>\n",
       "      <td>55.0</td>\n",
       "    </tr>\n",
       "    <tr>\n",
       "      <th>1</th>\n",
       "      <td>AA2</td>\n",
       "      <td>A</td>\n",
       "      <td>110.0</td>\n",
       "    </tr>\n",
       "    <tr>\n",
       "      <th>2</th>\n",
       "      <td>AA3</td>\n",
       "      <td>A</td>\n",
       "      <td>165.0</td>\n",
       "    </tr>\n",
       "    <tr>\n",
       "      <th>3</th>\n",
       "      <td>AA4</td>\n",
       "      <td>A</td>\n",
       "      <td>220.0</td>\n",
       "    </tr>\n",
       "    <tr>\n",
       "      <th>4</th>\n",
       "      <td>AA5</td>\n",
       "      <td>A</td>\n",
       "      <td>275.0</td>\n",
       "    </tr>\n",
       "    <tr>\n",
       "      <th>...</th>\n",
       "      <td>...</td>\n",
       "      <td>...</td>\n",
       "      <td>...</td>\n",
       "    </tr>\n",
       "    <tr>\n",
       "      <th>995</th>\n",
       "      <td>AA996</td>\n",
       "      <td>D</td>\n",
       "      <td>54780.0</td>\n",
       "    </tr>\n",
       "    <tr>\n",
       "      <th>996</th>\n",
       "      <td>AA997</td>\n",
       "      <td>D</td>\n",
       "      <td>54835.0</td>\n",
       "    </tr>\n",
       "    <tr>\n",
       "      <th>997</th>\n",
       "      <td>AA998</td>\n",
       "      <td>D</td>\n",
       "      <td>54890.0</td>\n",
       "    </tr>\n",
       "    <tr>\n",
       "      <th>998</th>\n",
       "      <td>AA999</td>\n",
       "      <td>D</td>\n",
       "      <td>54945.0</td>\n",
       "    </tr>\n",
       "    <tr>\n",
       "      <th>999</th>\n",
       "      <td>AA1000</td>\n",
       "      <td>D</td>\n",
       "      <td>55000.0</td>\n",
       "    </tr>\n",
       "  </tbody>\n",
       "</table>\n",
       "<p>1000 rows × 3 columns</p>\n",
       "</div>"
      ],
      "text/plain": [
       "    Sub_sourcelist Group   Number\n",
       "0              AA1     A     55.0\n",
       "1              AA2     A    110.0\n",
       "2              AA3     A    165.0\n",
       "3              AA4     A    220.0\n",
       "4              AA5     A    275.0\n",
       "..             ...   ...      ...\n",
       "995          AA996     D  54780.0\n",
       "996          AA997     D  54835.0\n",
       "997          AA998     D  54890.0\n",
       "998          AA999     D  54945.0\n",
       "999         AA1000     D  55000.0\n",
       "\n",
       "[1000 rows x 3 columns]"
      ]
     },
     "execution_count": 5,
     "metadata": {},
     "output_type": "execute_result"
    }
   ],
   "source": [
    "df = pd.read_sql(\"SELECT * FROM test\", engine)\n",
    "df"
   ]
  },
  {
   "cell_type": "code",
   "execution_count": 33,
   "id": "223bef5d",
   "metadata": {},
   "outputs": [],
   "source": [
    "df = df.head(1000)"
   ]
  },
  {
   "cell_type": "code",
   "execution_count": 34,
   "id": "9dceb9c4",
   "metadata": {},
   "outputs": [],
   "source": [
    "try:\n",
    "    df.to_sql('test',con = engine, if_exists = 'replace' , index = False)\n",
    "except Exception as e:\n",
    "    print(f\"เกิดข้อผิดพลาด: {e}\")"
   ]
  },
  {
   "cell_type": "markdown",
   "id": "b3579444",
   "metadata": {},
   "source": [
    "### pyodbc ###"
   ]
  },
  {
   "cell_type": "code",
   "execution_count": 121,
   "id": "6b509537",
   "metadata": {},
   "outputs": [
    {
     "data": {
      "text/plain": [
       "<pyodbc.Cursor at 0x2065a949930>"
      ]
     },
     "execution_count": 121,
     "metadata": {},
     "output_type": "execute_result"
    }
   ],
   "source": [
    "import pyodbc\n",
    "\n",
    "conn = pyodbc.connect(\n",
    "    'DRIVER=SQL Server Native Client 11.0;'\n",
    "    'SERVER=PATCHANARIN\\SQLEXPRESS;'\n",
    "    'DATABASE=mydatabae;'\n",
    "    'Trusted_Connection=yes;'\n",
    ")\n",
    "cursor = conn.cursor()\n",
    "cursor"
   ]
  },
  {
   "cell_type": "code",
   "execution_count": 36,
   "id": "d15b631e",
   "metadata": {
    "scrolled": true
   },
   "outputs": [
    {
     "data": {
      "text/html": [
       "<div>\n",
       "<style scoped>\n",
       "    .dataframe tbody tr th:only-of-type {\n",
       "        vertical-align: middle;\n",
       "    }\n",
       "\n",
       "    .dataframe tbody tr th {\n",
       "        vertical-align: top;\n",
       "    }\n",
       "\n",
       "    .dataframe thead th {\n",
       "        text-align: right;\n",
       "    }\n",
       "</style>\n",
       "<table border=\"1\" class=\"dataframe\">\n",
       "  <thead>\n",
       "    <tr style=\"text-align: right;\">\n",
       "      <th></th>\n",
       "      <th>Sub_sourcelist</th>\n",
       "      <th>Group</th>\n",
       "      <th>Number</th>\n",
       "    </tr>\n",
       "  </thead>\n",
       "  <tbody>\n",
       "    <tr>\n",
       "      <th>0</th>\n",
       "      <td>AA1</td>\n",
       "      <td>A</td>\n",
       "      <td>55.0</td>\n",
       "    </tr>\n",
       "    <tr>\n",
       "      <th>1</th>\n",
       "      <td>AA2</td>\n",
       "      <td>A</td>\n",
       "      <td>110.0</td>\n",
       "    </tr>\n",
       "    <tr>\n",
       "      <th>2</th>\n",
       "      <td>AA3</td>\n",
       "      <td>A</td>\n",
       "      <td>165.0</td>\n",
       "    </tr>\n",
       "    <tr>\n",
       "      <th>3</th>\n",
       "      <td>AA4</td>\n",
       "      <td>A</td>\n",
       "      <td>220.0</td>\n",
       "    </tr>\n",
       "    <tr>\n",
       "      <th>4</th>\n",
       "      <td>AA5</td>\n",
       "      <td>A</td>\n",
       "      <td>275.0</td>\n",
       "    </tr>\n",
       "    <tr>\n",
       "      <th>...</th>\n",
       "      <td>...</td>\n",
       "      <td>...</td>\n",
       "      <td>...</td>\n",
       "    </tr>\n",
       "    <tr>\n",
       "      <th>995</th>\n",
       "      <td>AA996</td>\n",
       "      <td>D</td>\n",
       "      <td>54780.0</td>\n",
       "    </tr>\n",
       "    <tr>\n",
       "      <th>996</th>\n",
       "      <td>AA997</td>\n",
       "      <td>D</td>\n",
       "      <td>54835.0</td>\n",
       "    </tr>\n",
       "    <tr>\n",
       "      <th>997</th>\n",
       "      <td>AA998</td>\n",
       "      <td>D</td>\n",
       "      <td>54890.0</td>\n",
       "    </tr>\n",
       "    <tr>\n",
       "      <th>998</th>\n",
       "      <td>AA999</td>\n",
       "      <td>D</td>\n",
       "      <td>54945.0</td>\n",
       "    </tr>\n",
       "    <tr>\n",
       "      <th>999</th>\n",
       "      <td>AA1000</td>\n",
       "      <td>D</td>\n",
       "      <td>55000.0</td>\n",
       "    </tr>\n",
       "  </tbody>\n",
       "</table>\n",
       "<p>1000 rows × 3 columns</p>\n",
       "</div>"
      ],
      "text/plain": [
       "    Sub_sourcelist Group   Number\n",
       "0              AA1     A     55.0\n",
       "1              AA2     A    110.0\n",
       "2              AA3     A    165.0\n",
       "3              AA4     A    220.0\n",
       "4              AA5     A    275.0\n",
       "..             ...   ...      ...\n",
       "995          AA996     D  54780.0\n",
       "996          AA997     D  54835.0\n",
       "997          AA998     D  54890.0\n",
       "998          AA999     D  54945.0\n",
       "999         AA1000     D  55000.0\n",
       "\n",
       "[1000 rows x 3 columns]"
      ]
     },
     "execution_count": 36,
     "metadata": {},
     "output_type": "execute_result"
    }
   ],
   "source": [
    "cursor.execute(\"SELECT * FROM test\")\n",
    "\n",
    "rows = cursor.fetchall()\n",
    "\n",
    " \n",
    "columns = [column[0] for column in cursor.description]\n",
    "\n",
    "\n",
    "df= pd.DataFrame.from_records(rows,columns=columns)\n",
    "\n"
   ]
  },
  {
   "cell_type": "code",
   "execution_count": 41,
   "id": "80af6288",
   "metadata": {},
   "outputs": [
    {
     "name": "stdout",
     "output_type": "stream",
     "text": [
      "Sub_sourcelist\n",
      "Group\n",
      "Number\n"
     ]
    }
   ],
   "source": [
    "for column in cursor.description:\n",
    "    x = column[0]\n",
    "    print(x)"
   ]
  },
  {
   "cell_type": "code",
   "execution_count": 120,
   "id": "b2b4536b",
   "metadata": {},
   "outputs": [
    {
     "data": {
      "text/html": [
       "<div>\n",
       "<style scoped>\n",
       "    .dataframe tbody tr th:only-of-type {\n",
       "        vertical-align: middle;\n",
       "    }\n",
       "\n",
       "    .dataframe tbody tr th {\n",
       "        vertical-align: top;\n",
       "    }\n",
       "\n",
       "    .dataframe thead th {\n",
       "        text-align: right;\n",
       "    }\n",
       "</style>\n",
       "<table border=\"1\" class=\"dataframe\">\n",
       "  <thead>\n",
       "    <tr style=\"text-align: right;\">\n",
       "      <th></th>\n",
       "      <th>Year</th>\n",
       "      <th>Age</th>\n",
       "      <th>Ethnic</th>\n",
       "      <th>Sex</th>\n",
       "      <th>Area</th>\n",
       "      <th>count</th>\n",
       "    </tr>\n",
       "  </thead>\n",
       "  <tbody>\n",
       "    <tr>\n",
       "      <th>0</th>\n",
       "      <td>2018</td>\n",
       "      <td>0</td>\n",
       "      <td>1</td>\n",
       "      <td>1</td>\n",
       "      <td>01</td>\n",
       "      <td>795</td>\n",
       "    </tr>\n",
       "    <tr>\n",
       "      <th>1</th>\n",
       "      <td>2018</td>\n",
       "      <td>0</td>\n",
       "      <td>1</td>\n",
       "      <td>1</td>\n",
       "      <td>02</td>\n",
       "      <td>5067</td>\n",
       "    </tr>\n",
       "    <tr>\n",
       "      <th>2</th>\n",
       "      <td>2018</td>\n",
       "      <td>0</td>\n",
       "      <td>1</td>\n",
       "      <td>1</td>\n",
       "      <td>03</td>\n",
       "      <td>2229</td>\n",
       "    </tr>\n",
       "    <tr>\n",
       "      <th>3</th>\n",
       "      <td>2018</td>\n",
       "      <td>0</td>\n",
       "      <td>1</td>\n",
       "      <td>1</td>\n",
       "      <td>04</td>\n",
       "      <td>1356</td>\n",
       "    </tr>\n",
       "    <tr>\n",
       "      <th>4</th>\n",
       "      <td>2018</td>\n",
       "      <td>0</td>\n",
       "      <td>1</td>\n",
       "      <td>1</td>\n",
       "      <td>05</td>\n",
       "      <td>180</td>\n",
       "    </tr>\n",
       "    <tr>\n",
       "      <th>...</th>\n",
       "      <td>...</td>\n",
       "      <td>...</td>\n",
       "      <td>...</td>\n",
       "      <td>...</td>\n",
       "      <td>...</td>\n",
       "      <td>...</td>\n",
       "    </tr>\n",
       "    <tr>\n",
       "      <th>995</th>\n",
       "      <td>2018</td>\n",
       "      <td>1</td>\n",
       "      <td>9999</td>\n",
       "      <td>2</td>\n",
       "      <td>08</td>\n",
       "      <td>1455</td>\n",
       "    </tr>\n",
       "    <tr>\n",
       "      <th>996</th>\n",
       "      <td>2018</td>\n",
       "      <td>1</td>\n",
       "      <td>9999</td>\n",
       "      <td>2</td>\n",
       "      <td>09</td>\n",
       "      <td>2829</td>\n",
       "    </tr>\n",
       "    <tr>\n",
       "      <th>997</th>\n",
       "      <td>2018</td>\n",
       "      <td>1</td>\n",
       "      <td>9999</td>\n",
       "      <td>2</td>\n",
       "      <td>12</td>\n",
       "      <td>141</td>\n",
       "    </tr>\n",
       "    <tr>\n",
       "      <th>998</th>\n",
       "      <td>2018</td>\n",
       "      <td>1</td>\n",
       "      <td>9999</td>\n",
       "      <td>2</td>\n",
       "      <td>13</td>\n",
       "      <td>3396</td>\n",
       "    </tr>\n",
       "    <tr>\n",
       "      <th>999</th>\n",
       "      <td>2018</td>\n",
       "      <td>1</td>\n",
       "      <td>9999</td>\n",
       "      <td>2</td>\n",
       "      <td>14</td>\n",
       "      <td>1059</td>\n",
       "    </tr>\n",
       "  </tbody>\n",
       "</table>\n",
       "<p>1000 rows × 6 columns</p>\n",
       "</div>"
      ],
      "text/plain": [
       "     Year  Age  Ethnic  Sex Area count\n",
       "0    2018    0       1    1   01   795\n",
       "1    2018    0       1    1   02  5067\n",
       "2    2018    0       1    1   03  2229\n",
       "3    2018    0       1    1   04  1356\n",
       "4    2018    0       1    1   05   180\n",
       "..    ...  ...     ...  ...  ...   ...\n",
       "995  2018    1    9999    2   08  1455\n",
       "996  2018    1    9999    2   09  2829\n",
       "997  2018    1    9999    2   12   141\n",
       "998  2018    1    9999    2   13  3396\n",
       "999  2018    1    9999    2   14  1059\n",
       "\n",
       "[1000 rows x 6 columns]"
      ]
     },
     "execution_count": 120,
     "metadata": {},
     "output_type": "execute_result"
    }
   ],
   "source": [
    "df_insert = pd.read_csv(r\"C:\\Users\\oong1\\Downloads\\Age-sex-by-ethnic-group-grouped-total-responses-census-usually-resident-population-counts-2006-2013-2018-Censuses-RC-TA-SA2-DHB\\Data8277.csv\" , dtype={\n",
    "    'Year': 'int64',    # ปีเป็นตัวเลขจำนวนเต็ม\n",
    "    'Age': 'int64',     # อายุเป็นตัวเลขจำนวนเต็ม\n",
    "    'Ethnic': 'int64',    # ชาติพันธุ์เป็นข้อความ\n",
    "    'Sex': 'int64',       # เพศเป็นข้อความ (ชาย/หญิง)\n",
    "    'Area': 'str',      # พื้นที่เป็นข้อความ\n",
    "    'count': 'str',\n",
    "})\n",
    "df_insert = df_insert.head(1000)\n",
    "df_insert"
   ]
  },
  {
   "cell_type": "code",
   "execution_count": 131,
   "id": "b8b3f2ff",
   "metadata": {},
   "outputs": [],
   "source": [
    "# กำหนดประเภทข้อมูลสำหรับแต่ละคอลัมน์\n",
    "column_types = {\n",
    "    'Year': 'INT',     # ปีเป็นตัวเลขจำนวนเต็ม\n",
    "    'Age': 'INT',      # อายุเป็นตัวเลขจำนวนเต็ม\n",
    "    'Ethnic': 'INT',  # ชาติพันธุ์เป็นข้อความ\n",
    "    'Sex': 'INT',     # เพศเป็นข้อความ (ชาย/หญิง)\n",
    "    'Area': 'VARCHAR(255)',   # พื้นที่เป็นข้อความ\n",
    "    'count': 'VARCHAR(255)'\n",
    "}"
   ]
  },
  {
   "cell_type": "code",
   "execution_count": 132,
   "id": "dde949af",
   "metadata": {},
   "outputs": [],
   "source": [
    "table_name = \"test_insert\"\n",
    "columns = \"\""
   ]
  },
  {
   "cell_type": "code",
   "execution_count": 133,
   "id": "1d8cef8b",
   "metadata": {},
   "outputs": [],
   "source": [
    "# สร้างคอลัมน์ SQL โดยอิงจาก dictionary\n",
    "for column, dtype in column_types.items():\n",
    "    columns += f\"{column} {dtype},\"\n",
    "\n"
   ]
  },
  {
   "cell_type": "code",
   "execution_count": 134,
   "id": "b7a32dab",
   "metadata": {},
   "outputs": [
    {
     "data": {
      "text/plain": [
       "'Year INT,Age INT,Ethnic INT,Sex INT,Area VARCHAR(255),count VARCHAR(255)'"
      ]
     },
     "execution_count": 134,
     "metadata": {},
     "output_type": "execute_result"
    }
   ],
   "source": [
    "columns = columns.rstrip(',')  # ลบเครื่องหมาย ',' สุดท้ายออก\n",
    "columns"
   ]
  },
  {
   "cell_type": "code",
   "execution_count": 135,
   "id": "45736c44",
   "metadata": {},
   "outputs": [
    {
     "data": {
      "text/plain": [
       "'CREATE TABLE test_insert (Year INT,Age INT,Ethnic INT,Sex INT,Area VARCHAR(255),count VARCHAR(255))'"
      ]
     },
     "execution_count": 135,
     "metadata": {},
     "output_type": "execute_result"
    }
   ],
   "source": [
    "# สร้าง SQL สำหรับสร้างตาราง\n",
    "create_table_sql = f\"CREATE TABLE {table_name} ({columns})\"\n",
    "create_table_sql"
   ]
  },
  {
   "cell_type": "code",
   "execution_count": 136,
   "id": "6e8c31fc",
   "metadata": {
    "scrolled": true
   },
   "outputs": [
    {
     "name": "stdout",
     "output_type": "stream",
     "text": [
      "Table 'test_insert' created successfully!\n"
     ]
    }
   ],
   "source": [
    "# รันคำสั่ง SQL เพื่อสร้างตาราง\n",
    "cursor.execute(create_table_sql)\n",
    "conn.commit()\n",
    "\n",
    "print(f\"Table '{table_name}' created successfully!\")"
   ]
  },
  {
   "cell_type": "code",
   "execution_count": 137,
   "id": "fe3da3f9",
   "metadata": {
    "scrolled": true
   },
   "outputs": [
    {
     "name": "stdout",
     "output_type": "stream",
     "text": [
      "Index(['Year', 'Age', 'Ethnic', 'Sex', 'Area', 'count'], dtype='object')\n"
     ]
    }
   ],
   "source": [
    "print(df_insert.columns) "
   ]
  },
  {
   "cell_type": "code",
   "execution_count": 83,
   "id": "bda31679",
   "metadata": {},
   "outputs": [],
   "source": [
    "insert_query = '''  INSERT INTO test_insert (Year,Age,Ethnic,Sex,Area,count)\n",
    "                    VALUES (?,?,?,?,?,?); '''"
   ]
  },
  {
   "cell_type": "code",
   "execution_count": 142,
   "id": "980a24f6",
   "metadata": {},
   "outputs": [
    {
     "name": "stdout",
     "output_type": "stream",
     "text": [
      "Data inserted successfully!\n"
     ]
    }
   ],
   "source": [
    "# แทรกข้อมูลลงในตาราง\n",
    "for index, row in df_insert.iterrows():\n",
    "    # ตรวจสอบว่าคอลัมน์ใน column_types มีอยู่ใน row\n",
    "    values_to_insert = []\n",
    "    for column in column_types.keys():\n",
    "        values_to_insert.append(row[column])  # เพิ่มค่าลงใน list\n",
    "        \n",
    "    cursor.execute(\n",
    "        f\"INSERT INTO {table_name} ({', '.join(column_types.keys())}) VALUES ({', '.join(['?'] * len(values_to_insert))})\",\n",
    "        values_to_insert\n",
    "    )\n",
    "\n",
    "conn.commit()\n",
    "print(\"Data inserted successfully!\")\n"
   ]
  },
  {
   "cell_type": "code",
   "execution_count": 118,
   "id": "1a7ab5eb",
   "metadata": {},
   "outputs": [],
   "source": [
    "cursor.close()\n",
    "conn.close()"
   ]
  }
 ],
 "metadata": {
  "kernelspec": {
   "display_name": "Python 3 (ipykernel)",
   "language": "python",
   "name": "python3"
  },
  "language_info": {
   "codemirror_mode": {
    "name": "ipython",
    "version": 3
   },
   "file_extension": ".py",
   "mimetype": "text/x-python",
   "name": "python",
   "nbconvert_exporter": "python",
   "pygments_lexer": "ipython3",
   "version": "3.11.5"
  }
 },
 "nbformat": 4,
 "nbformat_minor": 5
}
